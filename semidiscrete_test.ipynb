{
 "metadata": {
  "name": "semidiscrete_test"
 },
 "nbformat": 3,
 "nbformat_minor": 0,
 "worksheets": [
  {
   "cells": [
    {
     "cell_type": "code",
     "collapsed": false,
     "input": [
      "import numpy as np\n",
      "import scipy\n",
      "import scipy.optimize\n",
      "import scipy.ndimage.interpolation\n",
      "%pylab inline\n",
      "import semidiscrete as rt\n",
      "from semidiscrete import rtmodel_ad_trans2 as rtmodel\n",
      "#from rtmodel import mo_rtmodel\n",
      "#from semidiscrete import soils"
     ],
     "language": "python",
     "metadata": {},
     "outputs": [
      {
       "output_type": "stream",
       "stream": "stdout",
       "text": [
        "\n",
        "Welcome to pylab, a matplotlib-based Python environment [backend: module://IPython.zmq.pylab.backend_inline].\n",
        "For more information, type 'help(pylab)'.\n"
       ]
      }
     ],
     "prompt_number": 3
    },
    {
     "cell_type": "code",
     "collapsed": false,
     "input": [
      "print rt"
     ],
     "language": "python",
     "metadata": {},
     "outputs": [
      {
       "output_type": "stream",
       "stream": "stdout",
       "text": [
        "<module 'semidiscrete' from '/usr/local/lib64/python2.7/site-packages/semidiscrete/__init__.pyc'>\n"
       ]
      }
     ],
     "prompt_number": 2
    },
    {
     "cell_type": "code",
     "collapsed": false,
     "input": [
      "dir(semidiscrete)"
     ],
     "language": "python",
     "metadata": {},
     "outputs": [
      {
       "ename": "NameError",
       "evalue": "name 'semidiscrete' is not defined",
       "output_type": "pyerr",
       "traceback": [
        "\u001b[1;31m---------------------------------------------------------------------------\u001b[0m\n\u001b[1;31mNameError\u001b[0m                                 Traceback (most recent call last)",
        "\u001b[1;32m<ipython-input-37-5bd08d5e7313>\u001b[0m in \u001b[0;36m<module>\u001b[1;34m()\u001b[0m\n\u001b[1;32m----> 1\u001b[1;33m \u001b[0mdir\u001b[0m\u001b[1;33m(\u001b[0m\u001b[0msemidiscrete\u001b[0m\u001b[1;33m)\u001b[0m\u001b[1;33m\u001b[0m\u001b[0m\n\u001b[0m",
        "\u001b[1;31mNameError\u001b[0m: name 'semidiscrete' is not defined"
       ]
      }
     ],
     "prompt_number": 37
    },
    {
     "cell_type": "code",
     "collapsed": false,
     "input": [
      "help(rt)"
     ],
     "language": "python",
     "metadata": {},
     "outputs": [
      {
       "output_type": "stream",
       "stream": "stdout",
       "text": [
        "Help on package semidiscrete:\n",
        "\n",
        "NAME\n",
        "    semidiscrete\n",
        "\n",
        "FILE\n",
        "    /usr/local/lib64/python2.7/site-packages/semidiscrete/__init__.py\n",
        "\n",
        "PACKAGE CONTENTS\n",
        "    rtmodel_ad_trans2\n",
        "    soils\n",
        "\n",
        "CLASSES\n",
        "    __builtin__.object\n",
        "        MExt\n",
        "        SemiDiscrete\n",
        "    \n",
        "    class MExt(__builtin__.object)\n",
        "     |  Load a unique copy of a module that can be treated as a \"class instance\".\n",
        "     |  \n",
        "     |  Methods defined here:\n",
        "     |  \n",
        "     |  __del__(self)\n",
        "     |  \n",
        "     |  __init__(self, name)\n",
        "     |  \n",
        "     |  ----------------------------------------------------------------------\n",
        "     |  Data descriptors defined here:\n",
        "     |  \n",
        "     |  __dict__\n",
        "     |      dictionary for instance variables (if defined)\n",
        "     |  \n",
        "     |  __weakref__\n",
        "     |      list of weak references to the object (if defined)\n",
        "    \n",
        "    class SemiDiscrete(__builtin__.object)\n",
        "     |  Methods defined here:\n",
        "     |  \n",
        "     |  __init__(self, *args, **kwargs)\n",
        "     |  \n",
        "     |  ----------------------------------------------------------------------\n",
        "     |  Data descriptors defined here:\n",
        "     |  \n",
        "     |  __dict__\n",
        "     |      dictionary for instance variables (if defined)\n",
        "     |  \n",
        "     |  __weakref__\n",
        "     |      list of weak references to the object (if defined)\n",
        "\n",
        "FUNCTIONS\n",
        "    mext(name)\n",
        "        Load and return a unique copy of a (possibly) already loaded module.\n",
        "        \n",
        "        This makes it possible to treat a module as a class and load multiple\n",
        "        instances of it.\n",
        "\n",
        "DATA\n",
        "    dataspec_p5 = <fortran object>\n",
        "    mo_nad = <fortran object>\n",
        "    mo_rtmodel = <fortran object>\n",
        "    multiple_dom_store_ad = <fortran object>\n",
        "    rt_getminmax = <fortran object>\n",
        "    rt_getnames = <fortran object>\n",
        "    rt_getnparams = <fortran object>\n",
        "    rt_getspectralinterval = <fortran object>\n",
        "    rt_getspectralmax = <fortran object>\n",
        "    rt_getspectralmin = <fortran object>\n",
        "    rt_model = <fortran object>\n",
        "    rt_modeld = <fortran object>\n",
        "    rt_modeldpost = <fortran object>\n",
        "    rt_modeldpre = <fortran object>\n",
        "    rt_modelpost = <fortran object>\n",
        "    rt_modelpre = <fortran object>\n",
        "    rt_modelpred = <fortran object>\n",
        "    spectrum_width_p5 = <fortran object>\n",
        "\n",
        "\n"
       ]
      }
     ],
     "prompt_number": 22
    },
    {
     "cell_type": "code",
     "collapsed": false,
     "input": [
      "rt.rt_model"
     ],
     "language": "python",
     "metadata": {},
     "outputs": [
      {
       "output_type": "pyout",
       "prompt_number": 23,
       "text": [
        "<fortran object>"
       ]
      }
     ],
     "prompt_number": 23
    },
    {
     "cell_type": "code",
     "collapsed": false,
     "input": [
      "import types\n",
      "\n",
      "print [rt.__dict__.get(a) for a in dir(rt)\n",
      "  if isinstance(rt.__dict__.get(a), types.FunctionType)]"
     ],
     "language": "python",
     "metadata": {},
     "outputs": [
      {
       "output_type": "stream",
       "stream": "stdout",
       "text": [
        "[<function _tmp_pkg at 0x2688b18>, <function mext at 0x2688b90>]\n"
       ]
      }
     ],
     "prompt_number": 24
    },
    {
     "cell_type": "code",
     "collapsed": false,
     "input": [
      "from inspect import getmembers, isfunction\n",
      "\n",
      "functions_list = [o for o in getmembers(rt) if isfunction(o[1])]"
     ],
     "language": "python",
     "metadata": {},
     "outputs": [],
     "prompt_number": 25
    },
    {
     "cell_type": "code",
     "collapsed": false,
     "input": [
      "print functions_list"
     ],
     "language": "python",
     "metadata": {},
     "outputs": [
      {
       "output_type": "stream",
       "stream": "stdout",
       "text": [
        "[('_tmp_pkg', <function _tmp_pkg at 0x2688b18>), ('mext', <function mext at 0x2688b90>)]\n"
       ]
      }
     ],
     "prompt_number": 26
    },
    {
     "cell_type": "code",
     "collapsed": false,
     "input": [
      "help(rtmodel_ad_trans2)"
     ],
     "language": "python",
     "metadata": {},
     "outputs": [
      {
       "ename": "NameError",
       "evalue": "name 'rtmodel_ad_trans2' is not defined",
       "output_type": "pyerr",
       "traceback": [
        "\u001b[1;31m---------------------------------------------------------------------------\u001b[0m\n\u001b[1;31mNameError\u001b[0m                                 Traceback (most recent call last)",
        "\u001b[1;32m<ipython-input-27-ad012c94f0c3>\u001b[0m in \u001b[0;36m<module>\u001b[1;34m()\u001b[0m\n\u001b[1;32m----> 1\u001b[1;33m \u001b[0mhelp\u001b[0m\u001b[1;33m(\u001b[0m\u001b[0mrtmodel_ad_trans2\u001b[0m\u001b[1;33m)\u001b[0m\u001b[1;33m\u001b[0m\u001b[0m\n\u001b[0m",
        "\u001b[1;31mNameError\u001b[0m: name 'rtmodel_ad_trans2' is not defined"
       ]
      }
     ],
     "prompt_number": 27
    },
    {
     "cell_type": "code",
     "collapsed": false,
     "input": [
      "functions_list = [o for o in getmembers(rtmodel) if isfunction(o[1])]\n",
      "print functions_list"
     ],
     "language": "python",
     "metadata": {},
     "outputs": [
      {
       "output_type": "stream",
       "stream": "stdout",
       "text": [
        "[]\n"
       ]
      }
     ],
     "prompt_number": 28
    },
    {
     "cell_type": "code",
     "collapsed": false,
     "input": [
      "print [rtmodel.__dict__.get(a) for a in dir(rtmodel)\n",
      "  if isinstance(rtmodel.__dict__.get(a), types.FunctionType)]"
     ],
     "language": "python",
     "metadata": {},
     "outputs": [
      {
       "output_type": "stream",
       "stream": "stdout",
       "text": [
        "[]\n"
       ]
      }
     ],
     "prompt_number": 29
    },
    {
     "cell_type": "code",
     "collapsed": false,
     "input": [
      "inf=rtmodel.rt_modelpost()\n",
      "print inf"
     ],
     "language": "python",
     "metadata": {},
     "outputs": [
      {
       "output_type": "stream",
       "stream": "stdout",
       "text": [
        "None\n"
       ]
      }
     ],
     "prompt_number": 30
    },
    {
     "cell_type": "code",
     "collapsed": false,
     "input": [
      "n_p = rtmodel.rt_getnparams()\n",
      "n_int = rtmodel.rt_getspectralinterval()\n",
      "n_min = rtmodel.rt_getspectralmin()\n",
      "n_max = rtmodel.rt_getspectralmax()\n",
      "names = rtmodel.rt_getnames()\n",
      "n_min_max = rtmodel.rt_getminmax()\n",
      "print n_p\n",
      "print n_int\n",
      "print n_min\n",
      "print n_max\n",
      "print names\n",
      "print n_min_max"
     ],
     "language": "python",
     "metadata": {},
     "outputs": [
      {
       "output_type": "stream",
       "stream": "stdout",
       "text": [
        "13\n",
        "1.0\n",
        "400.0\n",
        "2500.0\n",
        "exp(-LAI/2.0):Canopy height:Leaf radius:exp(-chlophyll/100.):leaf brown pigments:exp(-50. leaf water):exp(-100 leaf dry matter):leaf layers (N):soil cmpt 1:soil cmpt 2:soil cmpt 3:soil cmpt 4:lidf:                                                                                                                                                                                                                                                                                                                                                                                                                                                                                                                                                                                                                                                                                                                                                                                                                                                                                                                                                                                                                                                                                                                                                                                                                                                                                                                                                                                                                                                                                                                                                                                                                                                                                                                                                                                                                                                                           \n",
        "0.001;0.999:0.001;10:0.0001;1.0:0.001;0.999:0;1:0.001;0.999:0.001;0.999:0.5;2.5:0;1:0;1:0;1:0;1:0;5:                                                                                                                                                                                                                                                                                                                                                                                                                                                                                                                                                                                                                                                                                                                                                                                                                                                                                                                                                                                                                                                                                                                                                                                                                                                                                                                                                                                                                                                                                                                                                                                                                                                                                                                                                                                                                                                                                                                                                                            \n"
       ]
      }
     ],
     "prompt_number": 31
    },
    {
     "cell_type": "code",
     "collapsed": false,
     "input": [
      "mo=rtmodel.mo_rtmodel.rtmodel_nparam\n",
      "print mo"
     ],
     "language": "python",
     "metadata": {},
     "outputs": [
      {
       "output_type": "stream",
       "stream": "stdout",
       "text": [
        "13\n"
       ]
      }
     ],
     "prompt_number": 32
    },
    {
     "cell_type": "code",
     "collapsed": false,
     "input": [
      "rtmodel.mo_rtmodel.xlai = 0.001\n",
      "mo=rtmodel.mo_rtmodel.xlai\n",
      "print mo"
     ],
     "language": "python",
     "metadata": {},
     "outputs": [
      {
       "output_type": "stream",
       "stream": "stdout",
       "text": [
        "0.001\n"
       ]
      }
     ],
     "prompt_number": 33
    },
    {
     "cell_type": "code",
     "collapsed": false,
     "input": [
      "\"\"\"\n",
      "nv=1\n",
      "nbands=1\n",
      "nl=1\n",
      "ipt=1\n",
      "x=1\n",
      "theta_v=1\n",
      "phi_v=1\n",
      "theta_i=1\n",
      "phi_i=1\n",
      "brf=1\n",
      "wb=1\n",
      "brf = rt_model(ipt,x,theta_v,phi_v,theta_i,phi_i,wb,nv=len(theta_v),nbands=shape(wb,0),nl=shape(wb,1))\n",
      "\n",
      "\n",
      "exp(-LAI/2.0):Canopy height:Leaf radius:exp(-chlophyll/100.):leaf brown pigments:exp(-50. leaf water):exp(-100 leaf dry matter):leaf layers (N):soil cmpt 1:soil cmpt 2:soil cmpt 3:soil cmpt 4:lidf:\n",
      "\n",
      "1) 0.001;        exp(-LAI/2.0)\n",
      "2) 0.999:0.001;  Canopy height\n",
      "3) 10:0.0001;    Leaf radius\n",
      "4) 1.0:0.001;    exp(-chlophyll/100.)\n",
      "5) 0.999:0;      leaf brown pigments\n",
      "6) 1:0.001;      exp(-50. leaf water)\n",
      "7) 0.999:0.001;  exp(-100 leaf dry matter)\n",
      "8) 0.999:0.5;    leaf layers (N)\n",
      "9) 2.5:0;        soil cmpt 1         \n",
      "10) 1:0;          soil cmpt 2\n",
      "11) 1:0;          soil cmpt 3\n",
      "12) 1:0;          soil cmpt 4\n",
      "13) 1:0;          lidf\n",
      "14) 5:\n",
      "\"\"\"\n",
      "ipt=1\n",
      "x=[0.001,0.01,3,0.4,0.5,0.6,0.7,0.8,0.9,0.10,0.11,0.12,0.13]\n",
      "theta_v=[1,1]\n",
      "phi_v=[1,1]\n",
      "theta_i=1\n",
      "phi_i=1\n",
      "wb=array([[1,1],[1,1]])\n",
      "wb[:]=0\n",
      "print wb.shape\n",
      "print wb\n",
      "brf=rtmodel.rt_model(ipt,x,theta_v,phi_v,theta_i,phi_i,wb,nv=len(theta_v),nbands=2, nl=2)\n",
      "print brf"
     ],
     "language": "python",
     "metadata": {},
     "outputs": [],
     "prompt_number": "*"
    },
    {
     "cell_type": "code",
     "collapsed": false,
     "input": [],
     "language": "python",
     "metadata": {},
     "outputs": [],
     "prompt_number": 40
    },
    {
     "cell_type": "code",
     "collapsed": false,
     "input": [],
     "language": "python",
     "metadata": {},
     "outputs": [],
     "prompt_number": 40
    },
    {
     "cell_type": "code",
     "collapsed": false,
     "input": [],
     "language": "python",
     "metadata": {},
     "outputs": []
    }
   ],
   "metadata": {}
  }
 ]
}